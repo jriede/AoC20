{
 "cells": [
  {
   "cell_type": "code",
   "execution_count": 31,
   "metadata": {},
   "outputs": [
    {
     "name": "stdout",
     "output_type": "stream",
     "text": [
      "[111, 370, 422, 503, 543, 544, 562, 577, 604, 814, 1021, 1258, 1281, 1367, 1477, 1508, 1509, 1510, 1519, 1523, 1525, 1530, 1532, 1541, 1546, 1554, 1559, 1564, 1568, 1569, 1575, 1576, 1577, 1578, 1595, 1596, 1597, 1600, 1605, 1607, 1612, 1614, 1615, 1616, 1617, 1618, 1619, 1627, 1630, 1632, 1639, 1641, 1644, 1646, 1647, 1651, 1655, 1663, 1665, 1668, 1671, 1675, 1678, 1679, 1680, 1681, 1683, 1688, 1690, 1691, 1692, 1694, 1695, 1696, 1697, 1698, 1702, 1705, 1706, 1707, 1714, 1716, 1718, 1719, 1720, 1724, 1726, 1727, 1728, 1729, 1734, 1737, 1738, 1740, 1742, 1744, 1745, 1748, 1750, 1755, 1758, 1765, 1768, 1769, 1770, 1771, 1773, 1777, 1778, 1787, 1789, 1794, 1795, 1797, 1799, 1802, 1804, 1808, 1813, 1816, 1818, 1819, 1823, 1825, 1827, 1828, 1829, 1842, 1847, 1851, 1853, 1854, 1855, 1856, 1857, 1858, 1861, 1862, 1863, 1866, 1867, 1868, 1869, 1870, 1873, 1877, 1883, 1887, 1892, 1893, 1894, 1902, 1903, 1904, 1905, 1906, 1910, 1911, 1912, 1913, 1915, 1917, 1919, 1920, 1922, 1923, 1924, 1926, 1931, 1935, 1938, 1940, 1941, 1943, 1944, 1946, 1948, 1949, 1951, 1952, 1954, 1957, 1959, 1960, 1962, 1963, 1967, 1973, 1979, 1988, 1990, 1991, 1992, 1997, 2001, 2003, 2004, 2005, 2006, 2010]\n"
     ]
    }
   ],
   "source": [
    "import math\n",
    "\n",
    "f = open(\"./input\", \"r\")\n",
    "c = f.read()\n",
    "f.close()\n",
    "\n",
    "nums = c.split(\"\\n\")\n",
    "nums.pop()\n",
    "nums = [int(i) for i in nums]\n",
    "nums.sort()\n",
    "\n",
    "print(nums)"
   ]
  },
  {
   "cell_type": "code",
   "execution_count": 57,
   "metadata": {},
   "outputs": [],
   "source": [
    "def binary_search(item_list,item):\n",
    "    first = 0\n",
    "    last = len(item_list)-1\n",
    "    found = False\n",
    "    while( first<=last and not found):\n",
    "        mid = (first + last)//2\n",
    "        if item_list[mid] == item :\n",
    "            found = True\n",
    "            print(item_list[mid])\n",
    "        else:\n",
    "            if item < item_list[mid]:\n",
    "                last = mid - 1\n",
    "            else:\n",
    "                first = mid + 1\t\n",
    "    return found"
   ]
  },
  {
   "cell_type": "code",
   "execution_count": 61,
   "metadata": {},
   "outputs": [
    {
     "name": "stdout",
     "output_type": "stream",
     "text": [
      "Triplet is 1 ,  4 ,  10\n"
     ]
    },
    {
     "data": {
      "text/plain": [
       "True"
      ]
     },
     "execution_count": 61,
     "metadata": {},
     "output_type": "execute_result"
    }
   ],
   "source": [
    "# same as above but for triplets\n",
    "def find3Numbers(A, sum): \n",
    "    A.sort() \n",
    "  \n",
    "    # fix the first element of the triplet \n",
    "    for i in range(0, len(A)-2): \n",
    "      \n",
    "  \n",
    "        # To find the other two elements, \n",
    "        # start two index variables from \n",
    "        # two corners of the array and \n",
    "        # move them toward each other \n",
    "          \n",
    "        # index of the first element \n",
    "        # in the remaining elements \n",
    "        l = i + 1 \n",
    "          \n",
    "        # index of the last element \n",
    "        r = len(A)-1 \n",
    "        while (l < r): \n",
    "          \n",
    "            if( A[i] + A[l] + A[r] == sum): \n",
    "                print(\"Triplet is\", A[i],  \n",
    "                     ', ', A[l], ', ', A[r]); \n",
    "                return True\n",
    "              \n",
    "            elif (A[i] + A[l] + A[r] < sum): \n",
    "                l += 1\n",
    "            else: # A[i] + A[l] + A[r] > sum \n",
    "                r -= 1\n",
    "  \n",
    "    # If we reach here, then \n",
    "    # no triplet was found \n",
    "    return False\n",
    "  \n",
    "# Driver program to test above function  \n",
    "A = [1, 4, 45, 6, 10, 8] \n",
    "  \n",
    "find3Numbers(A, 15)"
   ]
  },
  {
   "cell_type": "code",
   "execution_count": 53,
   "metadata": {},
   "outputs": [
    {
     "name": "stdout",
     "output_type": "stream",
     "text": [
      "1477\n",
      "543  +  True  = 2020 ( 544 )\n",
      "543\n",
      "1477  +  True  = 2020 ( 1478 )\n"
     ]
    }
   ],
   "source": [
    "sun = 2020\n",
    "for i in nums:\n",
    "    #print(\"search: \", i)\n",
    "    x = binary_search(nums,sun-i)\n",
    "    if x == True:\n",
    "        print(i, \" + \", x, \" = 2020 (\", i + x, \")\")"
   ]
  },
  {
   "cell_type": "code",
   "execution_count": 54,
   "metadata": {},
   "outputs": [
    {
     "data": {
      "text/plain": [
       "2020"
      ]
     },
     "execution_count": 54,
     "metadata": {},
     "output_type": "execute_result"
    }
   ],
   "source": [
    "543+1477"
   ]
  },
  {
   "cell_type": "code",
   "execution_count": 55,
   "metadata": {},
   "outputs": [
    {
     "data": {
      "text/plain": [
       "802011"
      ]
     },
     "execution_count": 55,
     "metadata": {},
     "output_type": "execute_result"
    }
   ],
   "source": [
    "543*1477"
   ]
  },
  {
   "cell_type": "code",
   "execution_count": null,
   "metadata": {},
   "outputs": [],
   "source": []
  }
 ],
 "metadata": {
  "kernelspec": {
   "display_name": "Python 3",
   "language": "python",
   "name": "python3"
  },
  "language_info": {
   "codemirror_mode": {
    "name": "ipython",
    "version": 3
   },
   "file_extension": ".py",
   "mimetype": "text/x-python",
   "name": "python",
   "nbconvert_exporter": "python",
   "pygments_lexer": "ipython3",
   "version": "3.8.6"
  }
 },
 "nbformat": 4,
 "nbformat_minor": 4
}
