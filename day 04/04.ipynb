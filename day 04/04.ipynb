{
 "cells": [
  {
   "cell_type": "code",
   "execution_count": 32,
   "metadata": {},
   "outputs": [],
   "source": [
    "import re\n",
    "f = open(\"./input\", \"r\")\n",
    "c = f.read()\n",
    "f.close()\n",
    "\n",
    "lines = c.split(\"\\n\\n\")\n",
    "\n",
    "#byr (Birth Year)\n",
    "#iyr (Issue Year)\n",
    "#eyr (Expiration Year)\n",
    "#hgt (Height)\n",
    "#hcl (Hair Color)\n",
    "#ecl (Eye Color)\n",
    "#pid (Passport ID)\n",
    "#cid (Country ID)"
   ]
  },
  {
   "cell_type": "code",
   "execution_count": 53,
   "metadata": {},
   "outputs": [
    {
     "name": "stdout",
     "output_type": "stream",
     "text": [
      "245 passports (part one)\n"
     ]
    }
   ],
   "source": [
    "# hgt:71in eyr:2037\\necl:#8e276e hcl:z iyr:2019\\nbyr:2022 pid:157cm',\n",
    "for i, s in enumerate(lines):\n",
    "    lines[i] = s.replace('\\n',' ')\n",
    "lines\n",
    "valid = 0\n",
    "passports = []\n",
    "for pp in lines:\n",
    "    #print()\n",
    "    entries = {}\n",
    "    tmpl = pp.split(' ')\n",
    "    for t in tmpl:\n",
    "        #print('t: ', t)\n",
    "        e = t.split(':')\n",
    "        #print(e[0])\n",
    "        if e[0] != '':\n",
    "            entries[e[0]] = e[1]\n",
    "    passports.append(entries)\n",
    "\n",
    "valid = 0\n",
    "for p in passports:\n",
    "    if ('byr' in p) and ('iyr' in p) and ('pid' in p) and ('ecl' in p) and ('hcl' in p) and ('hgt' in p) and ('eyr' in p):\n",
    "        #print(\"valid passport\")\n",
    "        valid += 1\n",
    "print(valid, 'passports (part one)')\n"
   ]
  },
  {
   "cell_type": "code",
   "execution_count": 80,
   "metadata": {},
   "outputs": [
    {
     "name": "stdout",
     "output_type": "stream",
     "text": [
      "133\n"
     ]
    }
   ],
   "source": [
    "# part 2\n",
    "f = open('input', 'r')\n",
    "requirements = {\n",
    "'byr':r'byr:((19[2-9]\\d)|(200[0-2]))',\n",
    "'iyr':r'iyr:((201\\d)|2020)',\n",
    "'eyr':r'eyr:((202\\d)|2030)',\n",
    "'hgt':r'hgt:(((1(([5-8]\\d)|(9[0-3])))cm)|((59)|(6\\d)|(7[0-6])in))',\n",
    "'hcl':r'hcl:#(\\d|[a-f]){6}',\n",
    "'ecl':r'ecl:(amb|blu|brn|gry|grn|hzl|oth)',\n",
    "'pid':r'pid:\\d{9}\\D'\n",
    "}\n",
    "valid = 0\n",
    "counter = 0\n",
    "for line in f:\n",
    "    # Checks if the passport was valid and resets the counter to 0 for the next passport\n",
    "    if line == '\\n':\n",
    "        if counter == 7:\n",
    "            valid += 1\n",
    "        counter = 0\n",
    "    # Looks through every line to check if the passport requirements are met\n",
    "    else:\n",
    "        for keys in requirements.keys():\n",
    "            if re.search(requirements[keys], line) != None:\n",
    "                counter += 1\n",
    "print(valid)"
   ]
  }
 ],
 "metadata": {
  "kernelspec": {
   "display_name": "Python 3",
   "language": "python",
   "name": "python3"
  },
  "language_info": {
   "codemirror_mode": {
    "name": "ipython",
    "version": 3
   },
   "file_extension": ".py",
   "mimetype": "text/x-python",
   "name": "python",
   "nbconvert_exporter": "python",
   "pygments_lexer": "ipython3",
   "version": "3.8.6"
  }
 },
 "nbformat": 4,
 "nbformat_minor": 4
}
