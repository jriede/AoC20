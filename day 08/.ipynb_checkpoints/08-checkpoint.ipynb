{
 "cells": [
  {
   "cell_type": "code",
   "execution_count": 31,
   "metadata": {},
   "outputs": [
    {
     "name": "stdout",
     "output_type": "stream",
     "text": [
      "acc is now  1675\n"
     ]
    }
   ],
   "source": [
    "f = open(\"./input_test\", \"r\")\n",
    "c = f.read()\n",
    "f.close()\n",
    "\n",
    "lines = c.split(\"\\n\")\n",
    "lines.pop()\n",
    "\n",
    "vis = [0] * len(lines)\n",
    "\n",
    "acc = 0\n",
    "i = 0\n",
    "while i < len(lines):\n",
    "    line = lines[i]\n",
    "    ins = line[0:3]\n",
    "    cnt = line[4:]\n",
    "    #print('st ', ins, cnt, ', vis = ', i, vis)\n",
    "    if vis[i] >= 1:\n",
    "        print('acc is now ', acc)\n",
    "        break\n",
    "    vis[i] += 1\n",
    "    \n",
    "    if ins == 'nop':\n",
    "        i += 1\n",
    "    elif ins == 'acc':\n",
    "        acc += int(cnt)\n",
    "        i += 1\n",
    "    elif ins == 'jmp':\n",
    "        i += int(cnt)\n",
    "    \n",
    "    #print(ins, cnt, acc)\n",
    "    \n",
    "    \n",
    "    \n",
    "    "
   ]
  },
  {
   "cell_type": "code",
   "execution_count": 33,
   "metadata": {},
   "outputs": [
    {
     "name": "stdout",
     "output_type": "stream",
     "text": [
      "Part 1\n",
      "1675\n",
      "\n",
      "Part 2\n",
      "1532\n"
     ]
    }
   ],
   "source": [
    "# part two: from r/AoC\n",
    "instructions = []\n",
    "with open('input') as fp:\n",
    "    line = fp.readline()\n",
    "    while line:\n",
    "        tokens = line.strip().split()\n",
    "        instructions.append((tokens[0], int(tokens[1])))\n",
    "        line = fp.readline()\n",
    "\n",
    "def execute(instrs):\n",
    "    hasLoop = False\n",
    "    visited = set()\n",
    "    ptr = acc = 0\n",
    "    while ptr < len(instrs):\n",
    "        op, value = instrs[ptr]\n",
    "        if ptr in visited:\n",
    "            hasLoop = True\n",
    "            break\n",
    "        visited.add(ptr)\n",
    "        if op == 'jmp':\n",
    "            ptr = ptr + value\n",
    "            continue\n",
    "        elif op == 'acc':\n",
    "            acc = acc + value\n",
    "        ptr = ptr + 1\n",
    "    return (acc, hasLoop)\n",
    "\n",
    "print(f'Part 1\\n{execute(instructions)[0]}\\n')\n",
    "\n",
    "swapDict = {'nop':'jmp','jmp':'nop'}\n",
    "for i, (op,value) in enumerate(instructions):\n",
    "    if op == 'nop' or op == 'jmp':\n",
    "        swappedOp = [(swapDict[op], value)]\n",
    "        newInstructions = instructions[:i] + swappedOp + instructions[i+1:]\n",
    "        accValue, hasLoop = execute(newInstructions)\n",
    "        if not hasLoop:\n",
    "            print(f'Part 2\\n{accValue}')"
   ]
  },
  {
   "cell_type": "code",
   "execution_count": null,
   "metadata": {},
   "outputs": [],
   "source": []
  }
 ],
 "metadata": {
  "kernelspec": {
   "display_name": "Python 3",
   "language": "python",
   "name": "python3"
  },
  "language_info": {
   "codemirror_mode": {
    "name": "ipython",
    "version": 3
   },
   "file_extension": ".py",
   "mimetype": "text/x-python",
   "name": "python",
   "nbconvert_exporter": "python",
   "pygments_lexer": "ipython3",
   "version": "3.8.6"
  }
 },
 "nbformat": 4,
 "nbformat_minor": 4
}
