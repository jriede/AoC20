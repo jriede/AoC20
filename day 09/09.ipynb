{
 "cells": [
  {
   "cell_type": "code",
   "execution_count": 74,
   "metadata": {},
   "outputs": [
    {
     "name": "stdout",
     "output_type": "stream",
     "text": [
      "ends at  88311122\n"
     ]
    }
   ],
   "source": [
    "f = open(\"./input\", \"r\")\n",
    "c = f.read()\n",
    "f.close()\n",
    "\n",
    "pre_len = 25\n",
    "\n",
    "lines = c.split(\"\\n\")\n",
    "lines.pop()\n",
    "lines = [int(i) for i in lines] \n",
    "\n",
    "i = 0\n",
    "for i in range(0,len(lines)-pre_len):\n",
    "    stack = lines[i:i+pre_len]\n",
    "    #print(stack,lines[i+pre_len])\n",
    "    match = 0\n",
    "    for j in range(0,len(stack)-1):\n",
    "        tmpst = stack.copy()\n",
    "        tmpst.pop(j)\n",
    "        #print(tmpst, ', popped ', j)\n",
    "        for s in tmpst:\n",
    "            #print(s, ' + ', stack[j], ' = ', lines[i+pre_len])\n",
    "            if s+stack[j] == lines[i+pre_len]:\n",
    "                #print(s, ' + ', stack[j], 'is sum')\n",
    "                match = 1\n",
    "        #print('match: ', match)\n",
    "    if match == 0:\n",
    "        print('ends at ', lines[i+pre_len])\n",
    "        inv_nr = lines[i+pre_len]\n",
    "        break\n",
    "        \n",
    "        "
   ]
  },
  {
   "cell_type": "code",
   "execution_count": 75,
   "metadata": {},
   "outputs": [
    {
     "name": "stdout",
     "output_type": "stream",
     "text": [
      "here:  445 461 4339568 9851297 [4339568, 6564610, 3698072, 3799422, 3832615, 4328807, 7405463, 5779899, 4414880, 4238966, 5264353, 5092289, 4586944, 4999058, 5044359, 5070520, 9851297]\n",
      "max =  9851297 min =  3698072\n",
      "sum =  13549369\n"
     ]
    }
   ],
   "source": [
    "# part two\n",
    "i = 0\n",
    "n0 = 0\n",
    "n1 = 1\n",
    "\n",
    "while i < len(lines):\n",
    "    sm = sum(lines[n0:n1])\n",
    "    if sm == inv_nr:\n",
    "        print('here: ', n0, n1-1, lines[n0], lines[n1-1], lines[n0:n1])\n",
    "        match = lines[n0:n1]\n",
    "    if sm < inv_nr:\n",
    "        n1 += 1\n",
    "    else:\n",
    "        n0 += 1\n",
    "    #print(sm)\n",
    "    i += 1 \n",
    "print('max = ', max(match), 'min = ', min(match))\n",
    "print('sum = ', min(match) + max(match))"
   ]
  },
  {
   "cell_type": "code",
   "execution_count": null,
   "metadata": {},
   "outputs": [],
   "source": []
  }
 ],
 "metadata": {
  "kernelspec": {
   "display_name": "Python 3",
   "language": "python",
   "name": "python3"
  },
  "language_info": {
   "codemirror_mode": {
    "name": "ipython",
    "version": 3
   },
   "file_extension": ".py",
   "mimetype": "text/x-python",
   "name": "python",
   "nbconvert_exporter": "python",
   "pygments_lexer": "ipython3",
   "version": "3.8.6"
  }
 },
 "nbformat": 4,
 "nbformat_minor": 4
}
