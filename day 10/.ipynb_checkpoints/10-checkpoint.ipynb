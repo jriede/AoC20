{
 "cells": [
  {
   "cell_type": "code",
   "execution_count": 25,
   "metadata": {},
   "outputs": [
    {
     "name": "stdout",
     "output_type": "stream",
     "text": [
      "d1 =  7 , d3 =  5\n",
      "35\n"
     ]
    }
   ],
   "source": [
    "f = open(\"./input_test\", \"r\")\n",
    "c = f.read()\n",
    "f.close()\n",
    "d1 = d3 = 0\n",
    "\n",
    "lines = c.split(\"\\n\")\n",
    "lines.pop()\n",
    "lines = [int(i) for i in lines]\n",
    "\n",
    "lines.sort()\n",
    "\n",
    "for idx, val in enumerate(lines):\n",
    "    #print(idx, val)\n",
    "    if idx == 0:\n",
    "        #print('diff = ', val)\n",
    "        if val == 1:\n",
    "            d1 += 1\n",
    "        else:\n",
    "            d3 +=1\n",
    "    if idx > 0:\n",
    "        #print('diff = ', val - lines[idx-1])\n",
    "        if val - lines[idx-1] == 1:\n",
    "            d1 += 1\n",
    "        elif val - lines[idx-1] == 3:\n",
    "            d3 +=1\n",
    "d3 += 1\n",
    "print('d1 = ', d1, ', d3 = ', d3)\n",
    "print(d1*d3)\n"
   ]
  },
  {
   "cell_type": "code",
   "execution_count": 26,
   "metadata": {},
   "outputs": [],
   "source": [
    "# part two"
   ]
  },
  {
   "cell_type": "code",
   "execution_count": 30,
   "metadata": {},
   "outputs": [
    {
     "name": "stdout",
     "output_type": "stream",
     "text": [
      "(0)-1-4-5-6-7-10-11-12-15-16-19-(22)\n"
     ]
    }
   ],
   "source": [
    "l = '(0)-'\n",
    "for idx, val in enumerate(lines):\n",
    "    #print(idx, val)\n",
    "    l += str(val) + '-'\n",
    "l += '(' + str(lines[len(lines)-1]+3) + ')'\n",
    "print(l)"
   ]
  },
  {
   "cell_type": "code",
   "execution_count": null,
   "metadata": {},
   "outputs": [],
   "source": []
  }
 ],
 "metadata": {
  "kernelspec": {
   "display_name": "Python 3",
   "language": "python",
   "name": "python3"
  },
  "language_info": {
   "codemirror_mode": {
    "name": "ipython",
    "version": 3
   },
   "file_extension": ".py",
   "mimetype": "text/x-python",
   "name": "python",
   "nbconvert_exporter": "python",
   "pygments_lexer": "ipython3",
   "version": "3.8.6"
  }
 },
 "nbformat": 4,
 "nbformat_minor": 4
}
