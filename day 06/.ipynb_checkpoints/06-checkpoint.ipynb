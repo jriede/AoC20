{
 "cells": [
  {
   "cell_type": "code",
   "execution_count": 26,
   "metadata": {},
   "outputs": [
    {
     "name": "stdout",
     "output_type": "stream",
     "text": [
      "459 lines\n",
      "6259\n"
     ]
    }
   ],
   "source": [
    "f = open(\"./input_test\", \"r\")\n",
    "c = f.read()\n",
    "f.close()\n",
    "lines = c.split(\"\\n\\n\")\n",
    "\n",
    "s = 0\n",
    "print(len(lines), \"lines\")\n",
    "for line in lines:\n",
    "    #print(line)\n",
    "    ts = 0\n",
    "    answers = line.split('\\n')\n",
    "    ansarr = []\n",
    "    for a in answers:\n",
    "        for i in range(0,len(a)):\n",
    "            #print(a[i])\n",
    "            ansarr.append(a[i])\n",
    "    ansarr = list(set(ansarr))\n",
    "    #print(ansarr, len(ansarr))\n",
    "    s += len(ansarr)\n",
    "print(s)  \n",
    "    "
   ]
  },
  {
   "cell_type": "code",
   "execution_count": null,
   "metadata": {},
   "outputs": [],
   "source": [
    "abc\n",
    "\n",
    "a\n",
    "b\n",
    "c\n",
    "\n",
    "ab\n",
    "ac\n",
    "\n",
    "a\n",
    "a\n",
    "a\n",
    "a\n",
    "\n",
    "b"
   ]
  },
  {
   "cell_type": "code",
   "execution_count": 80,
   "metadata": {},
   "outputs": [
    {
     "name": "stdout",
     "output_type": "stream",
     "text": [
      "3178\n"
     ]
    }
   ],
   "source": [
    "# part two (copied from r/adventofcode after hours of frustrated debugging)\n",
    "c=0\n",
    "for g in open('input').read().split('\\n\\n'):\n",
    "    f=g.replace('\\n',' ').split()\n",
    "    k=set(f[0])\n",
    "    for i in f[1:]:k=k.intersection(i)\n",
    "    c+=len(k)\n",
    "print(c)"
   ]
  },
  {
   "cell_type": "code",
   "execution_count": null,
   "metadata": {},
   "outputs": [],
   "source": []
  }
 ],
 "metadata": {
  "kernelspec": {
   "display_name": "Python 3",
   "language": "python",
   "name": "python3"
  },
  "language_info": {
   "codemirror_mode": {
    "name": "ipython",
    "version": 3
   },
   "file_extension": ".py",
   "mimetype": "text/x-python",
   "name": "python",
   "nbconvert_exporter": "python",
   "pygments_lexer": "ipython3",
   "version": "3.8.6"
  }
 },
 "nbformat": 4,
 "nbformat_minor": 4
}
