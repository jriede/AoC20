{
 "cells": [
  {
   "cell_type": "code",
   "execution_count": 119,
   "metadata": {},
   "outputs": [
    {
     "name": "stdout",
     "output_type": "stream",
     "text": [
      "274 158730\n"
     ]
    }
   ],
   "source": [
    "# copied solution from r/AOC after trying for way too long. recursion is just not my topic.\n",
    "from collections import defaultdict\n",
    "\n",
    "# parse input.\n",
    "rules = []\n",
    "for _, line in enumerate(open(\"input\").read().strip().split(\"\\n\")):\n",
    "    outer, b = line.replace(\"bags\", \"\").replace(\"bag\", \"\").split(\"contain\")\n",
    "    for c in b.replace(\".\", \"\").split(\",\"):\n",
    "        c = c.strip()\n",
    "        if c == \"no other\":\n",
    "            rules.append((outer.strip(), c, 0))\n",
    "        else:\n",
    "            d = c.split(\" \")\n",
    "            rules.append((outer.strip(), \" \".join(d[1:]), int(d[0])))\n",
    "\n",
    "# part 1.\n",
    "leads_to_gold = {\"shiny gold\"}\n",
    "for outer, inner, n in rules * 10:\n",
    "    if inner in leads_to_gold:\n",
    "        leads_to_gold.add(outer)\n",
    "\n",
    "# part 2.\n",
    "bags = defaultdict(list)\n",
    "for outer, inner, n in rules:\n",
    "    for _ in range(n):\n",
    "        bags[outer].append(bags[inner])\n",
    "\n",
    "count = lambda xs: len(xs) + sum(count(x) for x in xs)\n",
    "\n",
    "# print result.\n",
    "print(len(leads_to_gold) - 1, count(bags.get(\"shiny gold\")))"
   ]
  },
  {
   "cell_type": "code",
   "execution_count": 100,
   "metadata": {},
   "outputs": [
    {
     "data": {
      "text/plain": [
       "{'lightred': {'shade': 'light',\n",
       "  'color': 'red',\n",
       "  'children': [['brightwhite', '1'], ['mutedyellow', '2']],\n",
       "  'parents': []},\n",
       " 'brightwhite': {'shade': 'bright',\n",
       "  'color': 'white',\n",
       "  'children': [['shinygold', '1']],\n",
       "  'parents': ['lightred', 'darkorange']},\n",
       " 'mutedyellow': {'shade': 'muted',\n",
       "  'color': 'yellow',\n",
       "  'children': [['shinygold', '2'], ['fadedblue', '9']],\n",
       "  'parents': ['lightred', 'darkorange']},\n",
       " 'darkorange': {'shade': 'dark',\n",
       "  'color': 'orange',\n",
       "  'children': [['brightwhite', '3'], ['mutedyellow', '4']],\n",
       "  'parents': []},\n",
       " 'shinygold': {'shade': 'shiny',\n",
       "  'color': 'gold',\n",
       "  'children': [['darkolive', '1'], ['vibrantplum', '2']],\n",
       "  'parents': ['brightwhite', 'mutedyellow']},\n",
       " 'fadedblue': {'shade': 'faded',\n",
       "  'color': 'blue',\n",
       "  'children': [],\n",
       "  'parents': ['mutedyellow', 'darkolive', 'vibrantplum']},\n",
       " 'darkolive': {'shade': 'dark',\n",
       "  'color': 'olive',\n",
       "  'children': [['fadedblue', '3'], ['dottedblack', '4']],\n",
       "  'parents': ['shinygold']},\n",
       " 'vibrantplum': {'shade': 'vibrant',\n",
       "  'color': 'plum',\n",
       "  'children': [['fadedblue', '5'], ['dottedblack', '6']],\n",
       "  'parents': ['shinygold']},\n",
       " 'dottedblack': {'shade': 'dotted',\n",
       "  'color': 'black',\n",
       "  'children': [],\n",
       "  'parents': ['darkolive', 'vibrantplum']}}"
      ]
     },
     "execution_count": 100,
     "metadata": {},
     "output_type": "execute_result"
    }
   ],
   "source": [
    "import re\n",
    "\n",
    "f = open(\"./input_test\", \"r\")\n",
    "c = f.read()\n",
    "f.close()\n",
    "\n",
    "lines = c.split(\"\\n\")\n",
    "lines.pop()\n",
    "lines\n",
    "#m = re.match(r\"(\\d+)-(\\d+) ([a-z+]): (\\w+)\", p)\n",
    "colors = {}\n",
    "\n",
    "def create_colkey(ckey, shade, col):\n",
    "    colors[ckey] = {'shade': shade, 'color': col, 'children': [], 'parents': []}\n",
    "    #print('f_create: added ', ckey)\n",
    "    \n",
    "def add_child(ckey, child, count):\n",
    "    colors[ckey]['children'].append([child, count])\n",
    "    #print('f_add_child: added ', ckey)\n",
    "    \n",
    "def add_parent(ckey, parent):\n",
    "    colors[ckey]['parents'].append(parent)\n",
    "    #print('f_add_parent: added ', parent, 'as parent for', ckey)\n",
    "    \n",
    "def get_parents(ckey):\n",
    "    return colors[ckey]['parents']\n",
    "    \n",
    "\n",
    "for line in lines:\n",
    "    #print(line)\n",
    "    # split line in <> contains <(), (), ..., ()>\n",
    "    (container, content) = line.split('contain')\n",
    "    \n",
    "    # container\n",
    "    m = re.search(r\"(\\w+) (\\w+) bags\", container)\n",
    "    colkey1 = m.group(1)+ m.group(2)\n",
    "\n",
    "    if colkey1 not in colors:\n",
    "        create_colkey(colkey1, m.group(1),m.group(2))\n",
    "\n",
    "    \n",
    "    # contents\n",
    "    contents = content.split(',') # how many children?\n",
    "    for c in contents:\n",
    "        cm = re.search(r\"(\\d+) (\\w+) (\\w+) bag\", c) # children's contents?\n",
    "        if cm != None:\n",
    "            colkey = cm.group(2)+cm.group(3)\n",
    "            #print(c, colkey)\n",
    "\n",
    "            add_child(colkey1,colkey,cm.group(1))\n",
    "            # key already there? if yes, add parent\n",
    "            if colkey in colors:\n",
    "                add_parent(colkey,colkey1)\n",
    "                \n",
    "            if colkey not in colors:\n",
    "                create_colkey(colkey, cm.group(2), cm.group(3))\n",
    "                add_parent(colkey,colkey1)\n",
    "colors"
   ]
  },
  {
   "cell_type": "code",
   "execution_count": 121,
   "metadata": {},
   "outputs": [
    {
     "name": "stdout",
     "output_type": "stream",
     "text": [
      "{'shade': 'bright', 'color': 'white', 'children': [['shinygold', '1']], 'parents': ['lightred', 'darkorange']}\n",
      "2\n",
      "parents of  brightwhite :  ['lightred', 'darkorange']\n",
      "0\n",
      "0\n",
      "{'shade': 'muted', 'color': 'yellow', 'children': [['shinygold', '2'], ['fadedblue', '9']], 'parents': ['lightred', 'darkorange']}\n",
      "2\n",
      "parents of  mutedyellow :  ['lightred', 'darkorange']\n",
      "0\n",
      "0\n"
     ]
    }
   ],
   "source": [
    "target = 'shinygold'\n",
    "parents = colors[target]['parents']\n",
    "for p in parents:\n",
    "    print(colors[p])\n",
    "    pars = get_parents(p)\n",
    "    print(len(pars))\n",
    "    print('parents of ', p, ': ', get_parents(p))\n",
    "    for pars in get_parents(p):\n",
    "        ps = get_parents(pars)\n",
    "        print(len(ps))\n",
    "        #while get_parents(colors[pars]) is not None:\n",
    "        #    print()\n",
    "    "
   ]
  },
  {
   "cell_type": "code",
   "execution_count": null,
   "metadata": {},
   "outputs": [],
   "source": []
  }
 ],
 "metadata": {
  "kernelspec": {
   "display_name": "Python 3",
   "language": "python",
   "name": "python3"
  },
  "language_info": {
   "codemirror_mode": {
    "name": "ipython",
    "version": 3
   },
   "file_extension": ".py",
   "mimetype": "text/x-python",
   "name": "python",
   "nbconvert_exporter": "python",
   "pygments_lexer": "ipython3",
   "version": "3.8.6"
  }
 },
 "nbformat": 4,
 "nbformat_minor": 4
}
